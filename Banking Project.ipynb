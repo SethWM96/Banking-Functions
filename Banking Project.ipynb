{
 "cells": [
  {
   "cell_type": "code",
   "execution_count": 1,
   "id": "88449eaf-cde8-4dd2-a53f-594984663964",
   "metadata": {},
   "outputs": [],
   "source": [
    "class bank:\n",
    "    def __init__(self, IFSC_CODE, bankname, branchname, loc):\n",
    "        self.IFSC_CODE = IFSC_CODE\n",
    "        self.bankname = bankname\n",
    "        self.branchname = branchname\n",
    "        self.loc = loc"
   ]
  },
  {
   "cell_type": "code",
   "execution_count": 2,
   "id": "4f124ace-16de-4d6e-952e-01cc0e8af72a",
   "metadata": {},
   "outputs": [],
   "source": [
    "class customer:\n",
    "    def __init__(self, CustomerID, custname, address, contactdetails):\n",
    "        self.CustomerID = CustomerID\n",
    "        self.custname = custname\n",
    "        self.address = address\n",
    "        self.contactdetails = contactdetails"
   ]
  },
  {
   "cell_type": "code",
   "execution_count": 3,
   "id": "eb1a4e91-0164-4e60-ac71-5804a097e37f",
   "metadata": {},
   "outputs": [],
   "source": [
    "class account(bank):\n",
    "    def __init__(self, AccountID, custobject, balance):\n",
    "        super().__init__(IFSC_CODE, bankname, branchname, loc)\n",
    "        self.AccountID = AccountID\n",
    "        self.custobject = custobject\n",
    "        self.balance = balance\n",
    "        \n",
    "    def getAccountInfo(self):\n",
    "        print(\"Account information\"+\"\\nAccount ID: \"+self.AccountID)\n",
    "        print(\"Customer Name: \"+self.custname)\n",
    "        print(\"Customer Address: \"+self.address)\n",
    "        print(\"Contact Details: \"+str(self.contactdetails))\n",
    "              \n",
    "    def deposit(self, amount):\n",
    "        self.amount = amount\n",
    "        self.balance = self.balance + self.amount\n",
    "        print(self.amount+\" was added t your Checking Account. Your new balance is \"+self.balance)\n",
    "        \n",
    "    def witdraw(self, amont):\n",
    "        self.amount = amount\n",
    "        if self.amount > self.balance:\n",
    "            print(\"Insufficient funds\")\n",
    "        else:\n",
    "            self.balance = self.balance - self.amount\n",
    "            print(self.amount+\" was withdrawn from your Checking Account. Your new balance is \"+self.balance)\n",
    "        \n",
    "    def getBalance(self):\n",
    "        print(\"Your Checking Account current balance is \"+self.balance)\n",
    "              "
   ]
  },
  {
   "cell_type": "code",
   "execution_count": 4,
   "id": "76cdda12-2e36-4108-95fb-705a7357e904",
   "metadata": {},
   "outputs": [],
   "source": [
    "class SavingsAccount(account):\n",
    "    def __init__(self, SMinBalance):\n",
    "        self.SMinBalance = SMinBalance\n",
    "        super().__init__(AccountID, custobject, balance)\n",
    "    \n",
    "    def getSavingsAccountInfo(self):\n",
    "        print(\"Account information\"+\"\\nAccount ID: \"+self.AccountID)\n",
    "        print(\"Customer Name: \"+self.custname)\n",
    "        print(\"Customer Address: \"+self.address)\n",
    "        print(\"Contact Details: \"+str(self.contactdetails))\n",
    "              \n",
    "    def deposit(self, amount):\n",
    "        self.amount = amount\n",
    "        self.balance = self.balance + self.amount\n",
    "        print(self.amount+\" was added to your Savings Account. Your new balance is \"+self.balance)\n",
    "        \n",
    "    def witdraw(self, amont):\n",
    "        self.amount = amount\n",
    "        if self.amount > self.balance:\n",
    "            print(\"Insufficient funds\")\n",
    "        else:\n",
    "            self.balance = self.balance - self.amount\n",
    "            print(self.amount+\" was withdrawn from your Savings Account. Your new balance is \"+self.balance)\n",
    "        \n",
    "    def getBalance(self):\n",
    "        print(\"Your current Savings Account balance is \"+self.balance)"
   ]
  },
  {
   "cell_type": "code",
   "execution_count": 5,
   "id": "0c651ba2-60b8-4250-96ae-4c476a40ed5b",
   "metadata": {},
   "outputs": [],
   "source": [
    "class OperatingBank(customer, SavingsAccount):\n",
    "    \n",
    "    def __init__(self):\n",
    "        self.balance = 0\n",
    "        print(\"Hello new bank member. Please input the following information: \")\n",
    "        self.custname = input(\"Enter your name: \")\n",
    "        self.address = input(\"Enter your address: \")\n",
    "        self.contactdetails = input(\"Enter your phone number: \")\n",
    "        print(f\"Thank you {self.custname}. Information was accepted\")\n",
    "    \n",
    "    def cust_deposit(self):\n",
    "        amount = float(input(\"Please deposit money: \"))\n",
    "        self.balance += amount\n",
    "        print(f\"Thank you. Your balance is {self.balance}\")\n",
    "    \n",
    "    def cust_withdraw(self):\n",
    "    \n",
    "        while True:\n",
    "            amount = float(input(\"Enter amount to be Withdrawn: \"))\n",
    "            if amount < self.balance:\n",
    "                self.balance = self.balance - amount\n",
    "                print(f\"Your new balance is {self.balance}\")\n",
    "                break\n",
    "            elif amount > self.balance:\n",
    "                print(\"Insufficient funds\")\n",
    "        "
   ]
  },
  {
   "cell_type": "code",
   "execution_count": 6,
   "id": "8539f9c9-75c6-4507-8f88-10c40663db0c",
   "metadata": {},
   "outputs": [
    {
     "name": "stdout",
     "output_type": "stream",
     "text": [
      "Hello new bank member. Please input the following information: \n"
     ]
    },
    {
     "name": "stdin",
     "output_type": "stream",
     "text": [
      "Enter your name:  Seth\n",
      "Enter your address:  1234 Main St\n",
      "Enter your phone number:  800-555-5555\n"
     ]
    },
    {
     "name": "stdout",
     "output_type": "stream",
     "text": [
      "Thank you Seth. Information was accepted\n"
     ]
    }
   ],
   "source": [
    "new_user = OperatingBank()"
   ]
  },
  {
   "cell_type": "code",
   "execution_count": 7,
   "id": "ce87581e-f877-4782-8d38-21323a69c09d",
   "metadata": {},
   "outputs": [
    {
     "name": "stdin",
     "output_type": "stream",
     "text": [
      "Please deposit money:  2000\n"
     ]
    },
    {
     "name": "stdout",
     "output_type": "stream",
     "text": [
      "Thank you. Your balance is 2000.0\n"
     ]
    }
   ],
   "source": [
    "new_user.cust_deposit()"
   ]
  },
  {
   "cell_type": "code",
   "execution_count": 8,
   "id": "5e293d30-5eff-4023-a333-0f3ba0e76cd5",
   "metadata": {},
   "outputs": [
    {
     "name": "stdin",
     "output_type": "stream",
     "text": [
      "Enter amount to be Withdrawn:  3000\n"
     ]
    },
    {
     "name": "stdout",
     "output_type": "stream",
     "text": [
      "Insufficient funds\n"
     ]
    },
    {
     "name": "stdin",
     "output_type": "stream",
     "text": [
      "Enter amount to be Withdrawn:  5000\n"
     ]
    },
    {
     "name": "stdout",
     "output_type": "stream",
     "text": [
      "Insufficient funds\n"
     ]
    },
    {
     "name": "stdin",
     "output_type": "stream",
     "text": [
      "Enter amount to be Withdrawn:  1500\n"
     ]
    },
    {
     "name": "stdout",
     "output_type": "stream",
     "text": [
      "Your new balance is 500.0\n"
     ]
    }
   ],
   "source": [
    "new_user.cust_withdraw()"
   ]
  },
  {
   "cell_type": "code",
   "execution_count": null,
   "id": "91e09e2e-04e3-4438-864c-7527a2a2fa92",
   "metadata": {},
   "outputs": [],
   "source": []
  },
  {
   "cell_type": "code",
   "execution_count": null,
   "id": "e2972b81-414b-459e-9bee-55229f653a22",
   "metadata": {},
   "outputs": [],
   "source": []
  }
 ],
 "metadata": {
  "kernelspec": {
   "display_name": "Python 3 (ipykernel)",
   "language": "python",
   "name": "python3"
  },
  "language_info": {
   "codemirror_mode": {
    "name": "ipython",
    "version": 3
   },
   "file_extension": ".py",
   "mimetype": "text/x-python",
   "name": "python",
   "nbconvert_exporter": "python",
   "pygments_lexer": "ipython3",
   "version": "3.9.13"
  }
 },
 "nbformat": 4,
 "nbformat_minor": 5
}
